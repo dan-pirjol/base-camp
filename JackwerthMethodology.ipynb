{
  "nbformat": 4,
  "nbformat_minor": 0,
  "metadata": {
    "colab": {
      "provenance": [],
      "collapsed_sections": [],
      "authorship_tag": "ABX9TyMPS1jvDcV4kx668Oc6d0N/",
      "include_colab_link": true
    },
    "kernelspec": {
      "name": "python3",
      "display_name": "Python 3"
    },
    "language_info": {
      "name": "python"
    }
  },
  "cells": [
    {
      "cell_type": "markdown",
      "metadata": {
        "id": "view-in-github",
        "colab_type": "text"
      },
      "source": [
        "<a href=\"https://colab.research.google.com/github/dan-pirjol/base-camp/blob/master/JackwerthMethodology.ipynb\" target=\"_parent\"><img src=\"https://colab.research.google.com/assets/colab-badge.svg\" alt=\"Open In Colab\"/></a>"
      ]
    },
    {
      "cell_type": "code",
      "execution_count": 21,
      "metadata": {
        "id": "jCZbpAiIDxx1"
      },
      "outputs": [],
      "source": [
        "# file curve_fitter.py\n",
        "import pandas\n",
        "import numpy\n",
        "import matplotlib.pyplot as plt"
      ]
    },
    {
      "cell_type": "code",
      "source": [
        "from google.colab import files\n",
        "uploaded = files.upload()"
      ],
      "metadata": {
        "colab": {
          "base_uri": "https://localhost:8080/",
          "height": 74
        },
        "id": "hxWz7j5wIlcc",
        "outputId": "359da68b-bf88-43ed-a615-c90733aa3d11"
      },
      "execution_count": 22,
      "outputs": [
        {
          "output_type": "display_data",
          "data": {
            "text/plain": [
              "<IPython.core.display.HTML object>"
            ],
            "text/html": [
              "\n",
              "     <input type=\"file\" id=\"files-e705082e-d1e5-46e8-8974-c666f7e8d43b\" name=\"files[]\" multiple disabled\n",
              "        style=\"border:none\" />\n",
              "     <output id=\"result-e705082e-d1e5-46e8-8974-c666f7e8d43b\">\n",
              "      Upload widget is only available when the cell has been executed in the\n",
              "      current browser session. Please rerun this cell to enable.\n",
              "      </output>\n",
              "      <script>// Copyright 2017 Google LLC\n",
              "//\n",
              "// Licensed under the Apache License, Version 2.0 (the \"License\");\n",
              "// you may not use this file except in compliance with the License.\n",
              "// You may obtain a copy of the License at\n",
              "//\n",
              "//      http://www.apache.org/licenses/LICENSE-2.0\n",
              "//\n",
              "// Unless required by applicable law or agreed to in writing, software\n",
              "// distributed under the License is distributed on an \"AS IS\" BASIS,\n",
              "// WITHOUT WARRANTIES OR CONDITIONS OF ANY KIND, either express or implied.\n",
              "// See the License for the specific language governing permissions and\n",
              "// limitations under the License.\n",
              "\n",
              "/**\n",
              " * @fileoverview Helpers for google.colab Python module.\n",
              " */\n",
              "(function(scope) {\n",
              "function span(text, styleAttributes = {}) {\n",
              "  const element = document.createElement('span');\n",
              "  element.textContent = text;\n",
              "  for (const key of Object.keys(styleAttributes)) {\n",
              "    element.style[key] = styleAttributes[key];\n",
              "  }\n",
              "  return element;\n",
              "}\n",
              "\n",
              "// Max number of bytes which will be uploaded at a time.\n",
              "const MAX_PAYLOAD_SIZE = 100 * 1024;\n",
              "\n",
              "function _uploadFiles(inputId, outputId) {\n",
              "  const steps = uploadFilesStep(inputId, outputId);\n",
              "  const outputElement = document.getElementById(outputId);\n",
              "  // Cache steps on the outputElement to make it available for the next call\n",
              "  // to uploadFilesContinue from Python.\n",
              "  outputElement.steps = steps;\n",
              "\n",
              "  return _uploadFilesContinue(outputId);\n",
              "}\n",
              "\n",
              "// This is roughly an async generator (not supported in the browser yet),\n",
              "// where there are multiple asynchronous steps and the Python side is going\n",
              "// to poll for completion of each step.\n",
              "// This uses a Promise to block the python side on completion of each step,\n",
              "// then passes the result of the previous step as the input to the next step.\n",
              "function _uploadFilesContinue(outputId) {\n",
              "  const outputElement = document.getElementById(outputId);\n",
              "  const steps = outputElement.steps;\n",
              "\n",
              "  const next = steps.next(outputElement.lastPromiseValue);\n",
              "  return Promise.resolve(next.value.promise).then((value) => {\n",
              "    // Cache the last promise value to make it available to the next\n",
              "    // step of the generator.\n",
              "    outputElement.lastPromiseValue = value;\n",
              "    return next.value.response;\n",
              "  });\n",
              "}\n",
              "\n",
              "/**\n",
              " * Generator function which is called between each async step of the upload\n",
              " * process.\n",
              " * @param {string} inputId Element ID of the input file picker element.\n",
              " * @param {string} outputId Element ID of the output display.\n",
              " * @return {!Iterable<!Object>} Iterable of next steps.\n",
              " */\n",
              "function* uploadFilesStep(inputId, outputId) {\n",
              "  const inputElement = document.getElementById(inputId);\n",
              "  inputElement.disabled = false;\n",
              "\n",
              "  const outputElement = document.getElementById(outputId);\n",
              "  outputElement.innerHTML = '';\n",
              "\n",
              "  const pickedPromise = new Promise((resolve) => {\n",
              "    inputElement.addEventListener('change', (e) => {\n",
              "      resolve(e.target.files);\n",
              "    });\n",
              "  });\n",
              "\n",
              "  const cancel = document.createElement('button');\n",
              "  inputElement.parentElement.appendChild(cancel);\n",
              "  cancel.textContent = 'Cancel upload';\n",
              "  const cancelPromise = new Promise((resolve) => {\n",
              "    cancel.onclick = () => {\n",
              "      resolve(null);\n",
              "    };\n",
              "  });\n",
              "\n",
              "  // Wait for the user to pick the files.\n",
              "  const files = yield {\n",
              "    promise: Promise.race([pickedPromise, cancelPromise]),\n",
              "    response: {\n",
              "      action: 'starting',\n",
              "    }\n",
              "  };\n",
              "\n",
              "  cancel.remove();\n",
              "\n",
              "  // Disable the input element since further picks are not allowed.\n",
              "  inputElement.disabled = true;\n",
              "\n",
              "  if (!files) {\n",
              "    return {\n",
              "      response: {\n",
              "        action: 'complete',\n",
              "      }\n",
              "    };\n",
              "  }\n",
              "\n",
              "  for (const file of files) {\n",
              "    const li = document.createElement('li');\n",
              "    li.append(span(file.name, {fontWeight: 'bold'}));\n",
              "    li.append(span(\n",
              "        `(${file.type || 'n/a'}) - ${file.size} bytes, ` +\n",
              "        `last modified: ${\n",
              "            file.lastModifiedDate ? file.lastModifiedDate.toLocaleDateString() :\n",
              "                                    'n/a'} - `));\n",
              "    const percent = span('0% done');\n",
              "    li.appendChild(percent);\n",
              "\n",
              "    outputElement.appendChild(li);\n",
              "\n",
              "    const fileDataPromise = new Promise((resolve) => {\n",
              "      const reader = new FileReader();\n",
              "      reader.onload = (e) => {\n",
              "        resolve(e.target.result);\n",
              "      };\n",
              "      reader.readAsArrayBuffer(file);\n",
              "    });\n",
              "    // Wait for the data to be ready.\n",
              "    let fileData = yield {\n",
              "      promise: fileDataPromise,\n",
              "      response: {\n",
              "        action: 'continue',\n",
              "      }\n",
              "    };\n",
              "\n",
              "    // Use a chunked sending to avoid message size limits. See b/62115660.\n",
              "    let position = 0;\n",
              "    do {\n",
              "      const length = Math.min(fileData.byteLength - position, MAX_PAYLOAD_SIZE);\n",
              "      const chunk = new Uint8Array(fileData, position, length);\n",
              "      position += length;\n",
              "\n",
              "      const base64 = btoa(String.fromCharCode.apply(null, chunk));\n",
              "      yield {\n",
              "        response: {\n",
              "          action: 'append',\n",
              "          file: file.name,\n",
              "          data: base64,\n",
              "        },\n",
              "      };\n",
              "\n",
              "      let percentDone = fileData.byteLength === 0 ?\n",
              "          100 :\n",
              "          Math.round((position / fileData.byteLength) * 100);\n",
              "      percent.textContent = `${percentDone}% done`;\n",
              "\n",
              "    } while (position < fileData.byteLength);\n",
              "  }\n",
              "\n",
              "  // All done.\n",
              "  yield {\n",
              "    response: {\n",
              "      action: 'complete',\n",
              "    }\n",
              "  };\n",
              "}\n",
              "\n",
              "scope.google = scope.google || {};\n",
              "scope.google.colab = scope.google.colab || {};\n",
              "scope.google.colab._files = {\n",
              "  _uploadFiles,\n",
              "  _uploadFilesContinue,\n",
              "};\n",
              "})(self);\n",
              "</script> "
            ]
          },
          "metadata": {}
        },
        {
          "output_type": "stream",
          "name": "stdout",
          "text": [
            "Saving GME_Jan2021_iv.csv to GME_Jan2021_iv.csv\n"
          ]
        }
      ]
    },
    {
      "cell_type": "code",
      "source": [
        "if __name__ == \"__main__\":\n",
        "\n",
        "    # name of directory to save pictures to\n",
        "    pics_folder = \"./\"\n",
        "\n",
        "    # File name - the name of the file of the data\n",
        "    # Pic file name - the name you want the picture saved as and the title\n",
        "    # Trade off lambda - determines the fitness/smoothness of the fitted curve\n",
        "    # Delta - the distance between consecutive strike prices\n",
        "    # Truncation terms - how many terms should be truncated from each end of the graphs\n",
        "    info = [\"GME_Jan2021_iv.csv\",\"GME January 2021\",1,1,5]\n",
        "    df = pandas.read_csv(f\"./{info[0]}\")\n",
        "    iv_column_name = \"IV\"\n",
        "    strike_column_name = \"Strike\"\n",
        "    fit_curve(df, info[1], iv_column_name, strike_column_name, info[2], info[3], pics_folder, info[4])\n",
        "\n"
      ],
      "metadata": {
        "id": "dvAwcVBYH-FI",
        "outputId": "591914b7-b28c-43bf-b2ef-b8277df4033e",
        "colab": {
          "base_uri": "https://localhost:8080/",
          "height": 591
        }
      },
      "execution_count": 28,
      "outputs": [
        {
          "output_type": "display_data",
          "data": {
            "text/plain": [
              "<Figure size 432x288 with 1 Axes>"
            ],
            "image/png": "[encoded data removed]"
          },
          "metadata": {
            "needs_background": "light"
          }
        },
        {
          "output_type": "display_data",
          "data": {
            "text/plain": [
              "<Figure size 432x288 with 1 Axes>"
            ],
            "image/png": "[encoded data removed]"
          },
          "metadata": {
            "needs_background": "light"
          }
        },
        {
          "output_type": "display_data",
          "data": {
            "text/plain": [
              "<Figure size 432x288 with 0 Axes>"
            ]
          },
          "metadata": {}
        }
      ]
    },
    {
      "cell_type": "code",
      "source": [
        "def fit_curve(df: pandas.DataFrame, filename: str, imp_vol_col: str, strike_col: str,\n",
        "        trade_off_lambda: int, delta: int, pics_folder: str, truncation_term: int):\n",
        " \n",
        "    implied_voltatilies = df[imp_vol_col].reset_index(drop=True)\n",
        "    strikes = df[strike_col].reset_index(drop=True).to_numpy()\n",
        "    total_len = len(implied_voltatilies)\n",
        "\n",
        "    # calculating the new implied volatility values using the method described by Jackwerth\n",
        "    list_of_rows = []\n",
        "    known_sigma_vector = []\n",
        "    for i in range(0,total_len):\n",
        "\n",
        "        j = i + 1\n",
        "        known_sigma_vector_value = ((trade_off_lambda*(total_len+1))/(total_len*(delta^4)))*(implied_voltatilies.loc[i])\n",
        "        known_sigma_vector.append(known_sigma_vector_value)\n",
        "\n",
        "        bracket_term = (6+((trade_off_lambda*(total_len+1))/(total_len * (delta^4))))\n",
        "        row_of_matrix = [0]*len(implied_voltatilies)\n",
        "        if i == 0:\n",
        "            row_of_matrix[0] = bracket_term\n",
        "            row_of_matrix[1] = -4\n",
        "            row_of_matrix[2] = 1\n",
        "        elif i == 1:\n",
        "            row_of_matrix[0] = -4\n",
        "            row_of_matrix[1] = bracket_term\n",
        "            row_of_matrix[2] = -4\n",
        "            row_of_matrix[3] = 1\n",
        "        elif i == (total_len-2):\n",
        "            row_of_matrix[total_len-4] = 1\n",
        "            row_of_matrix[total_len-3] = -4\n",
        "            row_of_matrix[total_len-2] = bracket_term\n",
        "            row_of_matrix[total_len-1] = -4\n",
        "        elif i == (total_len-1):\n",
        "            row_of_matrix[total_len-3] = 1\n",
        "            row_of_matrix[total_len-2] = -4\n",
        "            row_of_matrix[total_len-1] = bracket_term\n",
        "        else:\n",
        "            row_of_matrix[i-2] = 1\n",
        "            row_of_matrix[i-1] = -4\n",
        "            row_of_matrix[i] = bracket_term\n",
        "            row_of_matrix[i+1] = -4\n",
        "            row_of_matrix[i+2] = 1\n",
        "\n",
        "        list_of_rows.append(row_of_matrix)\n",
        "\n",
        "    A_mat = numpy.matrix(list_of_rows)\n",
        "    sigma_vector = numpy.array(known_sigma_vector)\n",
        "\n",
        "    unknown_sigma_vector = numpy.linalg.solve(A_mat,sigma_vector)\n",
        "\n",
        "    # Plotting original curve\n",
        "    if (truncation_term == 0):\n",
        "        plt.plot(strikes, implied_voltatilies,'c')\n",
        "    else:\n",
        "        plt.plot(strikes[truncation_term:-truncation_term], implied_voltatilies[truncation_term:-truncation_term],'c')\n",
        "    plt.title(f\"{filename.replace('.csv','')} Original Curve\")\n",
        "    plt.xlabel(\"Strike in USD\")\n",
        "    plt.ylabel(\"Implied Volatility\")\n",
        "    plt.grid(b=True)\n",
        "    plt.legend(['Implied Volatility'])\n",
        "    plt.savefig(f\"./{pics_folder}/{filename.replace('.csv','')}_original_curve.png\")\n",
        "    plt.show()\n",
        "    plt.clf()\n",
        "\n",
        "    # Plotting fitted curve\n",
        "    if (truncation_term == 0):\n",
        "        plt.plot(strikes, unknown_sigma_vector,'c')\n",
        "    else:\n",
        "        plt.plot(strikes[truncation_term:-truncation_term], unknown_sigma_vector[truncation_term:-truncation_term],'c')\n",
        "    plt.title(f\"{filename.replace('.csv','')} Fitted Curve Lambda={trade_off_lambda}\")\n",
        "    plt.xlabel(\"Strike in USD\")\n",
        "    plt.ylabel(\"Implied Volatility\")\n",
        "    plt.grid(b=True)\n",
        "    plt.legend(['Implied Volatility'])\n",
        "    plt.savefig(f\"./{pics_folder}/{filename.replace('.csv','')}_{str(trade_off_lambda).replace('0.','Point')}_fitted_curve.png\")\n",
        "    plt.show()\n",
        "    plt.clf()\n",
        "\n"
      ],
      "metadata": {
        "id": "UBUgsMnuD8Xz"
      },
      "execution_count": 27,
      "outputs": []
    },
    {
      "cell_type": "code",
      "source": [],
      "metadata": {
        "id": "EiSXO8-tEhTO"
      },
      "execution_count": null,
      "outputs": []
    }
  ]
}